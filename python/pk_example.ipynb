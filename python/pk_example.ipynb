{
 "metadata": {
  "language_info": {
   "codemirror_mode": {
    "name": "ipython",
    "version": 3
   },
   "file_extension": ".py",
   "mimetype": "text/x-python",
   "name": "python",
   "nbconvert_exporter": "python",
   "pygments_lexer": "ipython3",
   "version": "3.8.0-final"
  },
  "orig_nbformat": 2,
  "kernelspec": {
   "name": "python3",
   "display_name": "Python 3.8.0 64-bit",
   "metadata": {
    "interpreter": {
     "hash": "082e9a3bcad0a290d0001e938aa60b99250c6c2ef33a923c00b70f9826caf4b7"
    }
   }
  }
 },
 "nbformat": 4,
 "nbformat_minor": 2,
 "cells": [
  {
   "cell_type": "code",
   "execution_count": null,
   "metadata": {},
   "outputs": [],
   "source": [
    "# Run a sample Jupyter notebook version of the Web PK Calculator\n",
    "# You can customize this and adapt it to your needs -> some basic Python skills are necessary\n",
    "# Made as part of the Study PK (Pharmacokinetics) Project at the Appel Lab, Stanford University\n",
    "\n",
    "# 1/9/2021\n",
    "# This code was inspired by Joseph Mann, Ph.D. candidate in the Appel Lab. "
   ]
  },
  {
   "cell_type": "code",
   "execution_count": 4,
   "metadata": {},
   "outputs": [],
   "source": [
    "# python3 -m pip install numpy pandas scipy matplotlib\n",
    "\n",
    "# Import all the necessary packages \n",
    "import numpy as np\n",
    "import pandas as pd\n",
    "from scipy import optimize\n",
    "import matplotlib.pyplot as plt\n",
    "from scipy.integrate import odeint\n"
   ]
  },
  {
   "cell_type": "code",
   "execution_count": null,
   "metadata": {},
   "outputs": [],
   "source": [
    "# Throughout this example, I will have a model with 3 compartments. You can modify this as you wish."
   ]
  },
  {
   "cell_type": "code",
   "execution_count": 6,
   "metadata": {},
   "outputs": [],
   "source": [
    "def pk_derivative(y0, t, k):\n",
    "    \"\"\"\n",
    "    Function which will output instantaneous derivatives for each compartment at a given time t.\n",
    "    The Integrator class in Javascript from the web version of this takes in a function dydt which is \n",
    "    similar to this function.\n",
    "    Note, this example is for where there are 3 compartments. You can have as many compartments as you want.\n",
    "    You will need to modify the set of differential equations and other parameters accordingly.\n",
    "    -------\n",
    "    input:\n",
    "    y0 (list) ... provides a list of the concentrations, one value for each compartment\n",
    "    t (float) ... timepoint to calculate instantaneous derivatives\n",
    "    -------\n",
    "    output:\n",
    "    (list) of instantaneous derivatives for each compartment\n",
    "    \"\"\"\n",
    "    # Differential equations if there were 3 compartments\n",
    "    dx1dt = -k[0]*y0[0]\n",
    "    dx2dt = -k[1]*y0[1] + k[0]*y0[0]\n",
    "    dx3dt = -k[2]*y0[2] + k[1]*y0[1]\n",
    "\n",
    "    # You can include animal constants on any compartment just like in the web version\n",
    "    # if you want the units to be in concentration rather than in mass.\n",
    "    # But of course, you can have even better customizability.\n",
    "    # For example, if I wanted to modify the 3rd compartment with an animal constant\n",
    "    # dx3dt = -k[2]*y0[2] + k[1]*y0[1]/(.142*60) for humans would work.\n",
    "\n",
    "    return [dx1dt, dx2dt, dx3dt] # Return a list of the instaneous derivatives, one for each compartment\n"
   ]
  },
  {
   "cell_type": "code",
   "execution_count": 7,
   "metadata": {},
   "outputs": [],
   "source": [
    "# I will provide some sample inputs here.\n",
    "y0 = [4000, 0, 0]\n",
    "time_range = np.linspace(0, 400, 100000) # I want to go for 400 minutes and have 100,000 timepoints\n",
    "# time_range will be passed into odeint for it to generate values across the entire time_range\n",
    "# 100000 is an arbitrary number and you can pick anything.\n",
    "k = [0.01, 0.06, 0.17] # Made up k-values\n",
    "solve = odeint(pk_derivative, y0, time_range, args=(k, ))"
   ]
  },
  {
   "cell_type": "code",
   "execution_count": 9,
   "metadata": {},
   "outputs": [
    {
     "output_type": "execute_result",
     "data": {
      "text/plain": [
       "array([[4.00000000e+03, 0.00000000e+00, 0.00000000e+00],\n",
       "       [3.99984000e+03, 1.59979203e-01, 1.91894011e-05],\n",
       "       [3.99968001e+03, 3.19913616e-01, 7.67432779e-05],\n",
       "       ...,\n",
       "       [7.32684133e+01, 1.46536826e+01, 5.49513098e+00],\n",
       "       [7.32654826e+01, 1.46530965e+01, 5.49491118e+00],\n",
       "       [7.32625520e+01, 1.46525104e+01, 5.49469139e+00]])"
      ]
     },
     "metadata": {},
     "execution_count": 9
    }
   ],
   "source": [
    "solve # Outputs a numpy array with a lot of values! There are 100,000 arrays of size 3 each representing each compartment at that particular point in time"
   ]
  },
  {
   "cell_type": "code",
   "execution_count": null,
   "metadata": {},
   "outputs": [],
   "source": [
    "interested_data = solve[:,2] # You can slice this list with Python slicing to only give the data set you care about \n",
    "# Then, you can feed this into matplotlib plots which can graph the data for you. I am only interested in the last\n",
    "# compartment for example.\n",
    "\n",
    "plt.plot(time_range, interested_data)\n",
    "plt.ylabel('Concentration')\n",
    "plt.xlabel('Time (min')"
   ]
  }
 ]
}